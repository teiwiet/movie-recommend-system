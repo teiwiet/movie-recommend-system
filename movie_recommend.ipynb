{
 "cells": [
  {
   "cell_type": "code",
   "execution_count": 3,
   "metadata": {},
   "outputs": [
    {
     "name": "stdout",
     "output_type": "stream",
     "text": [
      "                                  Correlation  num of rating\n",
      "movie_titles                                                \n",
      "Titanic (1997)                       1.000000            350\n",
      "River Wild, The (1994)               0.497600            146\n",
      "Abyss, The (1989)                    0.472103            151\n",
      "Bram Stoker's Dracula (1992)         0.443560            120\n",
      "True Lies (1994)                     0.435104            208\n",
      "...                                       ...            ...\n",
      "Raging Bull (1980)                  -0.223660            116\n",
      "Jackie Brown (1997)                 -0.236841            126\n",
      "Brazil (1985)                       -0.243532            208\n",
      "Cold Comfort Farm (1995)            -0.307150            125\n",
      "James and the Giant Peach (1996)    -0.370248            126\n",
      "\n",
      "[334 rows x 2 columns]\n"
     ]
    }
   ],
   "source": [
    "import numpy as np\n",
    "import pandas as pd\n",
    "import matplotlib.pyplot as plt\n",
    "import seaborn as sns\n",
    "import natsort\n",
    "import warnings\n",
    "\n",
    "warnings.filterwarnings(\"ignore\")\n",
    "sns.set_style(\"white\")\n",
    "conlumn_names = [\"user_id\",\"item_id\",\"rating\",\"timestamp\"]\n",
    "df = pd.read_csv(r\"D:\\edoc\\ml-100k\\u.data\",sep=\"\\t\",names=conlumn_names)\n",
    "users = df.get('user_id')\n",
    "items = df.get(\"item_id\")\n",
    "unique_user = []\n",
    "unique_item = []\n",
    "for user in users:\n",
    "    if user not in unique_user:\n",
    "        unique_user.append(user)\n",
    "for item in items:\n",
    "        if item not in unique_item:\n",
    "            unique_item.append(item)\n",
    "#this is the start of something\n",
    "movie_titles = pd.read_csv(r\"D:\\edoc\\ml-100k\\u.item\",encoding=\"ISO-8859-1\",on_bad_lines='skip',sep=\"|\",header=None)\n",
    "movie_titles = movie_titles[[0,1]]\n",
    "movie_titles.columns=[\"item_id\",\"movie_titles\"]\n",
    "\n",
    "new_df = pd.merge(df,movie_titles,on=\"item_id\") #the merger function only work if two df have one similar columns\n",
    "rating_list = new_df.groupby(\"movie_titles\").mean(numeric_only=True)['rating']#\"groupby\" : group each keys in the dictionary \n",
    "rating_count = new_df.groupby(\"movie_titles\").count()['rating']\n",
    "# print(type(rating_list))\n",
    "ratings = pd.DataFrame(rating_list)\n",
    "ratings[\"num of rating\"] = pd.DataFrame(rating_count)\n",
    "\n",
    "movie_mat = new_df.pivot_table(index=\"user_id\",columns=\"movie_titles\",values=\"rating\")\n",
    "def predic_movie(movie_name):\n",
    "    \n",
    "    star_wars_rating = movie_mat[movie_name]\n",
    "    star_wars_rating.head()\n",
    "\n",
    "    similar_to_star_wars = movie_mat.corrwith(star_wars_rating)\n",
    "    corr_starwars = pd.DataFrame(similar_to_star_wars,columns=[\"Correlation\"])\n",
    "    corr_starwars.dropna(inplace=True)\n",
    "    corr_starwars = corr_starwars.join(ratings['num of rating'])\n",
    "\n",
    "    print(corr_starwars[corr_starwars['num of rating']>100].sort_values(by=\"Correlation\",ascending=False))\n",
    "\n",
    "predic_movie(\"Titanic (1997)\")"
   ]
  },
  {
   "cell_type": "code",
   "execution_count": null,
   "metadata": {},
   "outputs": [],
   "source": []
  }
 ],
 "metadata": {
  "kernelspec": {
   "display_name": "Python 3",
   "language": "python",
   "name": "python3"
  },
  "language_info": {
   "codemirror_mode": {
    "name": "ipython",
    "version": 3
   },
   "file_extension": ".py",
   "mimetype": "text/x-python",
   "name": "python",
   "nbconvert_exporter": "python",
   "pygments_lexer": "ipython3",
   "version": "3.11.3"
  },
  "orig_nbformat": 4
 },
 "nbformat": 4,
 "nbformat_minor": 2
}
