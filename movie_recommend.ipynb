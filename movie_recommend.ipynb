{
 "cells": [
  {
   "cell_type": "code",
   "execution_count": 25,
   "metadata": {},
   "outputs": [
    {
     "name": "stdout",
     "output_type": "stream",
     "text": [
      "       user_id  item_id  rating  timestamp  \\\n",
      "0          196      242       3  881250949   \n",
      "1           63      242       3  875747190   \n",
      "2          226      242       5  883888671   \n",
      "3          154      242       3  879138235   \n",
      "4          306      242       5  876503793   \n",
      "...        ...      ...     ...        ...   \n",
      "99995      840     1674       4  891211682   \n",
      "99996      655     1640       3  888474646   \n",
      "99997      655     1637       3  888984255   \n",
      "99998      655     1630       3  887428735   \n",
      "99999      655     1641       3  887427810   \n",
      "\n",
      "                                             movie_title  \n",
      "0                                           Kolya (1996)  \n",
      "1                                           Kolya (1996)  \n",
      "2                                           Kolya (1996)  \n",
      "3                                           Kolya (1996)  \n",
      "4                                           Kolya (1996)  \n",
      "...                                                  ...  \n",
      "99995                                  Mamma Roma (1962)  \n",
      "99996                             Eighth Day, The (1996)  \n",
      "99997                                  Girls Town (1996)  \n",
      "99998  Silence of the Palace, The (Saimt el Qusur) (1...  \n",
      "99999                                    Dadetown (1995)  \n",
      "\n",
      "[100000 rows x 5 columns]\n"
     ]
    }
   ],
   "source": [
    "import numpy as np\n",
    "import pandas as pd\n",
    "import natsort\n",
    "import warnings\n",
    "warnings.filterwarnings(\"ignore\")\n",
    "\n",
    "conlumn_names = [\"user_id\",\"item_id\",\"rating\",\"timestamp\"]\n",
    "df = pd.read_csv(r\"D:\\edoc\\ml-100k\\u.data\",sep=\"\\t\",names=conlumn_names)\n",
    "users = df.get('user_id')\n",
    "items = df.get(\"item_id\")\n",
    "unique_user = []\n",
    "unique_item = []\n",
    "for user in users:\n",
    "    if user not in unique_user:\n",
    "        unique_user.append(user)\n",
    "for item in items:\n",
    "        if item not in unique_item:\n",
    "            unique_item.append(item)\n",
    "\n",
    "movie_titles = pd.read_csv(r\"D:\\edoc\\ml-100k\\u.item\",encoding=\"ISO-8859-1\",on_bad_lines='skip',sep=\"|\",header=None)\n",
    "movie_titles = movie_titles[[0,1]]\n",
    "movie_titles.columns=[\"item_id\",\"movie_title\"]\n",
    "new_df = pd.merge(df,movie_titles,on=\"item_id\")\n",
    "print(new_df)\n"
   ]
  },
  {
   "cell_type": "code",
   "execution_count": null,
   "metadata": {},
   "outputs": [],
   "source": []
  }
 ],
 "metadata": {
  "kernelspec": {
   "display_name": "Python 3",
   "language": "python",
   "name": "python3"
  },
  "language_info": {
   "codemirror_mode": {
    "name": "ipython",
    "version": 3
   },
   "file_extension": ".py",
   "mimetype": "text/x-python",
   "name": "python",
   "nbconvert_exporter": "python",
   "pygments_lexer": "ipython3",
   "version": "3.11.3"
  },
  "orig_nbformat": 4
 },
 "nbformat": 4,
 "nbformat_minor": 2
}
