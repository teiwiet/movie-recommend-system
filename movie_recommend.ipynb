{
 "cells": [
  {
   "cell_type": "code",
   "execution_count": 1,
   "metadata": {},
   "outputs": [
    {
     "name": "stdout",
     "output_type": "stream",
     "text": [
      "                                          rating  num of rating\n",
      "movie_title                                                    \n",
      "Star Wars (1977)                        4.358491            583\n",
      "Contact (1997)                          3.803536            509\n",
      "Fargo (1996)                            4.155512            508\n",
      "Return of the Jedi (1983)               4.007890            507\n",
      "Liar Liar (1997)                        3.156701            485\n",
      "...                                          ...            ...\n",
      "Great Day in Harlem, A (1994)           5.000000              1\n",
      "Other Voices, Other Rooms (1997)        3.000000              1\n",
      "Good Morning (1971)                     1.000000              1\n",
      "Girls Town (1996)                       3.000000              1\n",
      "ï¿½ kï¿½ldum klaka (Cold Fever) (1994)  3.000000              1\n",
      "\n",
      "[1664 rows x 2 columns]\n"
     ]
    }
   ],
   "source": [
    "import numpy as np\n",
    "import pandas as pd\n",
    "import matplotlib.pyplot as plt\n",
    "import seaborn as sns\n",
    "import natsort\n",
    "import warnings\n",
    "\n",
    "warnings.filterwarnings(\"ignore\")\n",
    "sns.set_style(\"white\")\n",
    "conlumn_names = [\"user_id\",\"item_id\",\"rating\",\"timestamp\"]\n",
    "df = pd.read_csv(r\"D:\\edoc\\ml-100k\\u.data\",sep=\"\\t\",names=conlumn_names)\n",
    "users = df.get('user_id')\n",
    "items = df.get(\"item_id\")\n",
    "unique_user = []\n",
    "unique_item = []\n",
    "for user in users:\n",
    "    if user not in unique_user:\n",
    "        unique_user.append(user)\n",
    "for item in items:\n",
    "        if item not in unique_item:\n",
    "            unique_item.append(item)\n",
    "#this is the start of something\n",
    "movie_titles = pd.read_csv(r\"D:\\edoc\\ml-100k\\u.item\",encoding=\"ISO-8859-1\",on_bad_lines='skip',sep=\"|\",header=None)\n",
    "movie_titles = movie_titles[[0,1]]\n",
    "movie_titles.columns=[\"item_id\",\"movie_title\"]\n",
    "\n",
    "new_df = pd.merge(df,movie_titles,on=\"item_id\") #the merger function only work if two df have one similar columns\n",
    "rating_list = new_df.groupby(\"movie_title\").mean(numeric_only=True)['rating']#\"groupby\" : group each keys in the dictionary \n",
    "rating_count = new_df.groupby(\"movie_title\").count()['rating']\n",
    "# print(type(rating_list))\n",
    "ratings = pd.DataFrame(rating_list)\n",
    "ratings[\"num of rating\"] = pd.DataFrame(rating_count)\n",
    "print(ratings.sort_values(by=\"num of rating\",ascending=False))"
   ]
  },
  {
   "cell_type": "code",
   "execution_count": null,
   "metadata": {},
   "outputs": [],
   "source": []
  }
 ],
 "metadata": {
  "kernelspec": {
   "display_name": "Python 3",
   "language": "python",
   "name": "python3"
  },
  "language_info": {
   "codemirror_mode": {
    "name": "ipython",
    "version": 3
   },
   "file_extension": ".py",
   "mimetype": "text/x-python",
   "name": "python",
   "nbconvert_exporter": "python",
   "pygments_lexer": "ipython3",
   "version": "3.11.3"
  },
  "orig_nbformat": 4
 },
 "nbformat": 4,
 "nbformat_minor": 2
}
